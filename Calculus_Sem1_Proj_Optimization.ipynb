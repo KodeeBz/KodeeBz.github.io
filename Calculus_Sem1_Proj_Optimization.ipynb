{
  "nbformat": 4,
  "nbformat_minor": 0,
  "metadata": {
    "colab": {
      "provenance": [],
      "authorship_tag": "ABX9TyNKF2XkVpVShWn6a9MUo7RP",
      "include_colab_link": true
    },
    "kernelspec": {
      "name": "python3",
      "display_name": "Python 3"
    },
    "language_info": {
      "name": "python"
    }
  },
  "cells": [
    {
      "cell_type": "markdown",
      "metadata": {
        "id": "view-in-github",
        "colab_type": "text"
      },
      "source": [
        "<a href=\"https://colab.research.google.com/github/KodeeBz/KodeeBz.github.io/blob/main/Calculus_Sem1_Proj_Optimization.ipynb\" target=\"_parent\"><img src=\"https://colab.research.google.com/assets/colab-badge.svg\" alt=\"Open In Colab\"/></a>"
      ]
    },
    {
      "cell_type": "code",
      "execution_count": 2,
      "metadata": {
        "colab": {
          "base_uri": "https://localhost:8080/"
        },
        "id": "VB_Qtf1lvsJY",
        "outputId": "9a909cee-38c4-45a9-cb4c-15af62484e99"
      },
      "outputs": [
        {
          "output_type": "stream",
          "name": "stdout",
          "text": [
            "\n",
            "Performing optimized bubble sort...\n",
            "Total swaps in optimized bubble sort: 432\n",
            "Optimized sorted array: [-50.18090000000001, -50.000000000000014, -49.76639999999999, -49.15890000000002, -48.81889999999997, -47.59040000000003, -47.39839999999997, -45.56249999999996, -45.22490000000003, -43.366399999999956, -41.99040000000002, -40.86289999999994, -38.10239999999994, -37.81250000000006, -35.132899999999935, -32.61440000000004, -31.99999999999993, -28.746899999999926, -26.316900000000018, -25.414399999999915, -22.040899999999922, -18.83840000000007, -18.662399999999913, -15.312499999999911, -12.022399999999912, -10.094900000000056, -8.82089999999991, -5.7343999999999085, -2.7868999999999104, -2.842170943040401e-14, 0.0, 8.348877145181177e-14, 0.17109999999997783, 0.1891000000000176, 0.649599999999964, 0.7936000000000547, 1.3850999999999516, 1.8711000000000837, 2.3295999999999495, 2.607100000000081, 3.437499999999936, 3.4816000000000997, 4.665599999999927, 5.017600000000076, 5.687500000000167, 5.973099999999931, 7.21710000000007, 7.321599999999938, 8.553600000000209, 8.675099999999933, 9.193600000000064, 9.99999999999993, 10.937500000000057, 11.265099999999942, 11.535099999999922, 12.441599999999951, 12.44160000000005, 13.503099999999954, 13.701100000000043, 14.425599999999958, 14.713600000000033, 15.18749999999997, 15.479100000000026, 15.769599999999981, 16.000000000000014, 16.155099999999987, 16.281100000000006, 16.329599999999996]\n"
          ]
        }
      ],
      "source": [
        "#Proj normal optimization code\n",
        "import sympy as sp\n",
        "import numpy as np\n",
        "\n",
        "def optimized_bubble_sort(arr, xval, fx):\n",
        "    # Step 1: Define symbolic differentiation\n",
        "    x = sp.symbols('x')\n",
        "    fx_prime = sp.diff(fx, x)\n",
        "    critical_points = sp.solve(fx_prime, x)\n",
        "\n",
        "    # Step 2: Filter and sort real critical points\n",
        "    real_critical_points = sorted(\n",
        "        [float(point.evalf()) for point in critical_points if point.is_real and xval[0] <= point.evalf() <= xval[-1]]\n",
        "    )\n",
        "\n",
        "    # Step 3: Partition the array based on critical points\n",
        "    start = 0\n",
        "    subarrays = []\n",
        "    fx_prime_numeric = sp.lambdify(x, fx_prime, modules='numpy')\n",
        "    for idx in real_critical_points + [xval[-1]]:  # Including the last point as a boundary\n",
        "        partition_idx = np.searchsorted(xval, idx)\n",
        "        subarray = arr[start:partition_idx]\n",
        "        if len(subarray) > 1:\n",
        "            midpoint = sum(xval[start:partition_idx]) / len(xval[start:partition_idx])\n",
        "            if fx_prime_numeric(midpoint) < 0:\n",
        "                subarray = subarray[::-1]  # Reverse the subarray if the derivative is negative\n",
        "        subarrays.append(subarray)\n",
        "        start = partition_idx\n",
        "\n",
        "    # Step 4: Join the subarrays into a single array\n",
        "    joined_array = []\n",
        "    for subarray in subarrays:\n",
        "        joined_array.extend(subarray)\n",
        "\n",
        "    # Step 5: Apply bubble sort on the joined array\n",
        "    total_swaps = 0\n",
        "    sorted_array, swaps = bubble_sort_with_counter(joined_array)\n",
        "    total_swaps += swaps\n",
        "\n",
        "    print(f\"Total swaps in optimized bubble sort: {total_swaps}\")\n",
        "    return sorted_array\n",
        "\n",
        "def bubble_sort_with_counter(arr):\n",
        "    n = len(arr)\n",
        "    swaps = 0\n",
        "    for i in range(n):\n",
        "        for j in range(0, n - i - 1):\n",
        "            if arr[j] > arr[j + 1]:\n",
        "                arr[j], arr[j + 1] = arr[j + 1], arr[j]\n",
        "                swaps += 1\n",
        "    return arr, swaps\n",
        "\n",
        "# Example usage\n",
        "if __name__ == \"__main__\":\n",
        "    # Hardcoded function and domain specifications\n",
        "    x = sp.symbols('x')\n",
        "    fx = x**4 + x**3 - 12*x**2 + 4*x + 16  # User-defined function\n",
        "\n",
        "    # User-defined domain range\n",
        "    domain_start = -4.1  # Start of domain\n",
        "    domain_end = 2.7     # End of domain\n",
        "    step_size = 0.1      # Step size\n",
        "    xval = np.arange(domain_start, domain_end + step_size, step_size).tolist()\n",
        "\n",
        "    # Compute function values for the domain\n",
        "    fx_numeric = sp.lambdify(x, fx, modules='numpy')\n",
        "    arr = [float(fx_numeric(val)) for val in xval]  # Convert to plain Python floats\n",
        "\n",
        "    # Perform the optimized bubble sort\n",
        "    print(\"\\nPerforming optimized bubble sort...\")\n",
        "    optimized_array = optimized_bubble_sort(arr.copy(), xval, fx)\n",
        "    print(\"Optimized sorted array:\", optimized_array)\n"
      ]
    },
    {
      "cell_type": "code",
      "source": [
        "#Comparison code\n",
        "import sympy as sp\n",
        "import numpy as np\n",
        "\n",
        "def optimized_bubble_sort(arr, xval, fx):\n",
        "    # Step 1: Define symbolic differentiation\n",
        "    x = sp.symbols('x')\n",
        "    fx_prime = sp.diff(fx, x)\n",
        "    critical_points = sp.solve(fx_prime, x)\n",
        "\n",
        "    # Step 2: Filter and sort real critical points\n",
        "    real_critical_points = sorted(\n",
        "        [float(point.evalf()) for point in critical_points if point.is_real and xval[0] <= point.evalf() <= xval[-1]]\n",
        "    )\n",
        "\n",
        "    # Step 3: Partition the array based on critical points\n",
        "    start = 0\n",
        "    subarrays = []\n",
        "    fx_prime_numeric = sp.lambdify(x, fx_prime, modules='numpy')\n",
        "    for idx in real_critical_points + [xval[-1]]:\n",
        "        partition_idx = np.searchsorted(xval, idx)\n",
        "        subarray = arr[start:partition_idx]\n",
        "        if len(subarray) > 1:\n",
        "            midpoint = sum(xval[start:partition_idx]) / len(xval[start:partition_idx])\n",
        "            if fx_prime_numeric(midpoint) < 0:\n",
        "                subarray = subarray[::-1]  # Reverse if derivative is negative\n",
        "        subarrays.append(subarray)\n",
        "        start = partition_idx\n",
        "\n",
        "    # Step 4: Join all subarrays\n",
        "    joined_array = []\n",
        "    for subarray in subarrays:\n",
        "        joined_array.extend(subarray)\n",
        "\n",
        "    # Step 5: Final bubble sort\n",
        "    sorted_array, swaps = bubble_sort_with_counter(joined_array)\n",
        "    return sorted_array, swaps\n",
        "\n",
        "def bubble_sort_with_counter(arr):\n",
        "    n = len(arr)\n",
        "    swaps = 0\n",
        "    for i in range(n):\n",
        "        for j in range(0, n - i - 1):\n",
        "            if arr[j] > arr[j + 1]:\n",
        "                arr[j], arr[j + 1] = arr[j + 1], arr[j]\n",
        "                swaps += 1\n",
        "    return arr, swaps\n",
        "\n",
        "# Main code\n",
        "if __name__ == \"__main__\":\n",
        "    # Define symbolic function\n",
        "    x = sp.symbols('x')\n",
        "    fx = x**4 + x**3 - 12*x**2 + 4*x + 16\n",
        "\n",
        "    # Domain and values\n",
        "    domain_start = -4.1\n",
        "    domain_end = 2.7\n",
        "    step_size = 0.1\n",
        "    xval = np.arange(domain_start, domain_end + step_size, step_size).tolist()\n",
        "\n",
        "    # Function values\n",
        "    fx_numeric = sp.lambdify(x, fx, modules='numpy')\n",
        "    arr = [float(fx_numeric(val)) for val in xval]\n",
        "\n",
        "    # Compare with normal bubble sort\n",
        "    print(\"Performing normal bubble sort...\")\n",
        "    normal_sorted, normal_swaps = bubble_sort_with_counter(arr.copy())\n",
        "    print(\"Normal sorted array:\", normal_sorted)\n",
        "    print(\"Total swaps in normal bubble sort:\", normal_swaps)\n",
        "\n",
        "    # Optimized bubble sort\n",
        "    print(\"\\nPerforming optimized bubble sort...\")\n",
        "    optimized_sorted, optimized_swaps = optimized_bubble_sort(arr.copy(), xval, fx)\n",
        "    print(\"Optimized sorted array:\", optimized_sorted)\n",
        "    print(\"Total swaps in optimized bubble sort:\", optimized_swaps)\n"
      ],
      "metadata": {
        "colab": {
          "base_uri": "https://localhost:8080/"
        },
        "id": "a0o1SLy9waIx",
        "outputId": "c01ac3f1-6310-4bc7-ce9b-73a710198b7b"
      },
      "execution_count": 5,
      "outputs": [
        {
          "output_type": "stream",
          "name": "stdout",
          "text": [
            "Performing normal bubble sort...\n",
            "Normal sorted array: [-50.18090000000001, -50.000000000000014, -49.76639999999999, -49.15890000000002, -48.81889999999997, -47.59040000000003, -47.39839999999997, -45.56249999999996, -45.22490000000003, -43.366399999999956, -41.99040000000002, -40.86289999999994, -38.10239999999994, -37.81250000000006, -35.132899999999935, -32.61440000000004, -31.99999999999993, -28.746899999999926, -26.316900000000018, -25.414399999999915, -22.040899999999922, -18.83840000000007, -18.662399999999913, -15.312499999999911, -12.022399999999912, -10.094900000000056, -8.82089999999991, -5.7343999999999085, -2.7868999999999104, -2.842170943040401e-14, 0.0, 8.348877145181177e-14, 0.17109999999997783, 0.1891000000000176, 0.649599999999964, 0.7936000000000547, 1.3850999999999516, 1.8711000000000837, 2.3295999999999495, 2.607100000000081, 3.437499999999936, 3.4816000000000997, 4.665599999999927, 5.017600000000076, 5.687500000000167, 5.973099999999931, 7.21710000000007, 7.321599999999938, 8.553600000000209, 8.675099999999933, 9.193600000000064, 9.99999999999993, 10.937500000000057, 11.265099999999942, 11.535099999999922, 12.14710000000025, 12.441599999999951, 12.44160000000005, 13.503099999999954, 13.701100000000043, 14.425599999999958, 14.713600000000033, 15.18749999999997, 15.479100000000026, 15.769599999999981, 16.000000000000014, 16.155099999999987, 16.281100000000006, 16.329599999999996]\n",
            "Total swaps in normal bubble sort: 664\n",
            "\n",
            "Performing optimized bubble sort...\n",
            "Optimized sorted array: [-50.18090000000001, -50.000000000000014, -49.76639999999999, -49.15890000000002, -48.81889999999997, -47.59040000000003, -47.39839999999997, -45.56249999999996, -45.22490000000003, -43.366399999999956, -41.99040000000002, -40.86289999999994, -38.10239999999994, -37.81250000000006, -35.132899999999935, -32.61440000000004, -31.99999999999993, -28.746899999999926, -26.316900000000018, -25.414399999999915, -22.040899999999922, -18.83840000000007, -18.662399999999913, -15.312499999999911, -12.022399999999912, -10.094900000000056, -8.82089999999991, -5.7343999999999085, -2.7868999999999104, -2.842170943040401e-14, 0.0, 8.348877145181177e-14, 0.17109999999997783, 0.1891000000000176, 0.649599999999964, 0.7936000000000547, 1.3850999999999516, 1.8711000000000837, 2.3295999999999495, 2.607100000000081, 3.437499999999936, 3.4816000000000997, 4.665599999999927, 5.017600000000076, 5.687500000000167, 5.973099999999931, 7.21710000000007, 7.321599999999938, 8.553600000000209, 8.675099999999933, 9.193600000000064, 9.99999999999993, 10.937500000000057, 11.265099999999942, 11.535099999999922, 12.441599999999951, 12.44160000000005, 13.503099999999954, 13.701100000000043, 14.425599999999958, 14.713600000000033, 15.18749999999997, 15.479100000000026, 15.769599999999981, 16.000000000000014, 16.155099999999987, 16.281100000000006, 16.329599999999996]\n",
            "Total swaps in optimized bubble sort: 432\n"
          ]
        }
      ]
    }
  ]
}